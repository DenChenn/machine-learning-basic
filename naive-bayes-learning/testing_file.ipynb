{
 "cells": [
  {
   "cell_type": "markdown",
   "metadata": {},
   "source": [
    "# This is a testing file \n",
    "##### made by Evan Chang a.k.a TA\n",
    "\n",
    "### Make sure you are able to run the following cells."
   ]
  },
  {
   "cell_type": "markdown",
   "metadata": {},
   "source": [
    "1. Hit play button (or `Shift+Enter`) to execute a cell.\n",
    "1. If you encounter any issue, press `Kernel -> Restart Kernel` to restart.\n",
    "\n",
    "---\n",
    "\n",
    "#### Name: toosyou\n",
    "#### Student ID: 6969420\n",
    "\n",
    "---\n",
    "\n",
    "_TA_ once **said**\n",
    "> Please use jupyter\n",
    "\n",
    "[See more `markdown` useage](https://www.markdownguide.org/basic-syntax/)"
   ]
  },
  {
   "cell_type": "code",
   "execution_count": null,
   "metadata": {},
   "outputs": [],
   "source": [
    "import numpy as np\n",
    "import pandas as pd\n",
    "import matplotlib.pyplot as plt\n",
    "import urllib3\n",
    "\n",
    "%matplotlib inline"
   ]
  },
  {
   "cell_type": "code",
   "execution_count": null,
   "metadata": {},
   "outputs": [],
   "source": [
    "plt.figure(figsize=(20, 20))\n",
    "plt.imshow(plt.imread('https://i.imgur.com/aozj7h4.png'))"
   ]
  },
  {
   "cell_type": "code",
   "execution_count": null,
   "metadata": {},
   "outputs": [],
   "source": [
    "plt.figure(figsize=(20, 20))\n",
    "plt.imshow(plt.imread('https://i.imgur.com/AGNFR8D.png'))"
   ]
  },
  {
   "cell_type": "markdown",
   "metadata": {},
   "source": [
    "### How to save as a HTML file: `File -> Export Notebook As -> Export Notebook to HTML`"
   ]
  },
  {
   "cell_type": "code",
   "execution_count": null,
   "metadata": {},
   "outputs": [],
   "source": [
    "plt.figure(figsize=(20, 20))\n",
    "plt.imshow(plt.imread('https://steamuserimages-a.akamaihd.net/ugc/108482452995559833/DA1AD304C0048CE8FEA367CFF0F743C5ECF5734B/'))"
   ]
  },
  {
   "cell_type": "code",
   "execution_count": null,
   "metadata": {},
   "outputs": [],
   "source": []
  }
 ],
 "metadata": {
  "kernelspec": {
   "display_name": "Python 3",
   "language": "python",
   "name": "python3"
  },
  "language_info": {
   "codemirror_mode": {
    "name": "ipython",
    "version": 3
   },
   "file_extension": ".py",
   "mimetype": "text/x-python",
   "name": "python",
   "nbconvert_exporter": "python",
   "pygments_lexer": "ipython3",
   "version": "3.8.8"
  }
 },
 "nbformat": 4,
 "nbformat_minor": 4
}
