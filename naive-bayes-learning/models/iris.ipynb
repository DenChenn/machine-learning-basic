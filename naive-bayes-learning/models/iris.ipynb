{
 "cells": [
  {
   "cell_type": "markdown",
   "id": "42b6400a-357c-449e-a18d-e7f07981d336",
   "metadata": {},
   "source": [
    "### Data Input"
   ]
  },
  {
   "cell_type": "code",
   "execution_count": 3,
   "id": "c9a059b6-ad18-486f-93c4-8dfd041fefae",
   "metadata": {},
   "outputs": [
    {
     "data": {
      "text/html": [
       "<div>\n",
       "<style scoped>\n",
       "    .dataframe tbody tr th:only-of-type {\n",
       "        vertical-align: middle;\n",
       "    }\n",
       "\n",
       "    .dataframe tbody tr th {\n",
       "        vertical-align: top;\n",
       "    }\n",
       "\n",
       "    .dataframe thead th {\n",
       "        text-align: right;\n",
       "    }\n",
       "</style>\n",
       "<table border=\"1\" class=\"dataframe\">\n",
       "  <thead>\n",
       "    <tr style=\"text-align: right;\">\n",
       "      <th></th>\n",
       "      <th>SepalLengthInCM</th>\n",
       "      <th>SepalWidth</th>\n",
       "      <th>PetalLengthInCM</th>\n",
       "      <th>PetalWidthInCM</th>\n",
       "      <th>class</th>\n",
       "    </tr>\n",
       "  </thead>\n",
       "  <tbody>\n",
       "    <tr>\n",
       "      <th>0</th>\n",
       "      <td>5.1</td>\n",
       "      <td>3.5</td>\n",
       "      <td>1.4</td>\n",
       "      <td>0.2</td>\n",
       "      <td>Iris-setosa</td>\n",
       "    </tr>\n",
       "    <tr>\n",
       "      <th>1</th>\n",
       "      <td>4.9</td>\n",
       "      <td>3.0</td>\n",
       "      <td>1.4</td>\n",
       "      <td>0.2</td>\n",
       "      <td>Iris-setosa</td>\n",
       "    </tr>\n",
       "    <tr>\n",
       "      <th>2</th>\n",
       "      <td>4.7</td>\n",
       "      <td>3.2</td>\n",
       "      <td>1.3</td>\n",
       "      <td>0.2</td>\n",
       "      <td>Iris-setosa</td>\n",
       "    </tr>\n",
       "    <tr>\n",
       "      <th>3</th>\n",
       "      <td>4.6</td>\n",
       "      <td>3.1</td>\n",
       "      <td>1.5</td>\n",
       "      <td>0.2</td>\n",
       "      <td>Iris-setosa</td>\n",
       "    </tr>\n",
       "    <tr>\n",
       "      <th>4</th>\n",
       "      <td>5.0</td>\n",
       "      <td>3.6</td>\n",
       "      <td>1.4</td>\n",
       "      <td>0.2</td>\n",
       "      <td>Iris-setosa</td>\n",
       "    </tr>\n",
       "    <tr>\n",
       "      <th>...</th>\n",
       "      <td>...</td>\n",
       "      <td>...</td>\n",
       "      <td>...</td>\n",
       "      <td>...</td>\n",
       "      <td>...</td>\n",
       "    </tr>\n",
       "    <tr>\n",
       "      <th>145</th>\n",
       "      <td>6.7</td>\n",
       "      <td>3.0</td>\n",
       "      <td>5.2</td>\n",
       "      <td>2.3</td>\n",
       "      <td>Iris-virginica</td>\n",
       "    </tr>\n",
       "    <tr>\n",
       "      <th>146</th>\n",
       "      <td>6.3</td>\n",
       "      <td>2.5</td>\n",
       "      <td>5.0</td>\n",
       "      <td>1.9</td>\n",
       "      <td>Iris-virginica</td>\n",
       "    </tr>\n",
       "    <tr>\n",
       "      <th>147</th>\n",
       "      <td>6.5</td>\n",
       "      <td>3.0</td>\n",
       "      <td>5.2</td>\n",
       "      <td>2.0</td>\n",
       "      <td>Iris-virginica</td>\n",
       "    </tr>\n",
       "    <tr>\n",
       "      <th>148</th>\n",
       "      <td>6.2</td>\n",
       "      <td>3.4</td>\n",
       "      <td>5.4</td>\n",
       "      <td>2.3</td>\n",
       "      <td>Iris-virginica</td>\n",
       "    </tr>\n",
       "    <tr>\n",
       "      <th>149</th>\n",
       "      <td>5.9</td>\n",
       "      <td>3.0</td>\n",
       "      <td>5.1</td>\n",
       "      <td>1.8</td>\n",
       "      <td>Iris-virginica</td>\n",
       "    </tr>\n",
       "  </tbody>\n",
       "</table>\n",
       "<p>150 rows × 5 columns</p>\n",
       "</div>"
      ],
      "text/plain": [
       "     SepalLengthInCM  SepalWidth  PetalLengthInCM  PetalWidthInCM  \\\n",
       "0                5.1         3.5              1.4             0.2   \n",
       "1                4.9         3.0              1.4             0.2   \n",
       "2                4.7         3.2              1.3             0.2   \n",
       "3                4.6         3.1              1.5             0.2   \n",
       "4                5.0         3.6              1.4             0.2   \n",
       "..               ...         ...              ...             ...   \n",
       "145              6.7         3.0              5.2             2.3   \n",
       "146              6.3         2.5              5.0             1.9   \n",
       "147              6.5         3.0              5.2             2.0   \n",
       "148              6.2         3.4              5.4             2.3   \n",
       "149              5.9         3.0              5.1             1.8   \n",
       "\n",
       "              class  \n",
       "0       Iris-setosa  \n",
       "1       Iris-setosa  \n",
       "2       Iris-setosa  \n",
       "3       Iris-setosa  \n",
       "4       Iris-setosa  \n",
       "..              ...  \n",
       "145  Iris-virginica  \n",
       "146  Iris-virginica  \n",
       "147  Iris-virginica  \n",
       "148  Iris-virginica  \n",
       "149  Iris-virginica  \n",
       "\n",
       "[150 rows x 5 columns]"
      ]
     },
     "execution_count": 3,
     "metadata": {},
     "output_type": "execute_result"
    }
   ],
   "source": [
    "import pandas as pd\n",
    "import matplotlib.pyplot as plt\n",
    "\n",
    "header_list = [\"SepalLengthInCM\", \"SepalWidth\", \"PetalLengthInCM\", \"PetalWidthInCM\", \"class\"]\n",
    "\n",
    "df = pd.read_csv(\"../dataset/iris.data\", sep=\",\", names=header_list)"
   ]
  },
  {
   "cell_type": "markdown",
   "id": "568cd2ed-ede1-4cb7-8463-34c074304ede",
   "metadata": {},
   "source": [
    "### Data Preprocessing"
   ]
  },
  {
   "cell_type": "code",
   "execution_count": 4,
   "id": "8677330e-5843-4464-92a1-7c09426b7fc8",
   "metadata": {},
   "outputs": [
    {
     "name": "stderr",
     "output_type": "stream",
     "text": [
      "<ipython-input-4-1ca7ed67afd1>:31: SettingWithCopyWarning: \n",
      "A value is trying to be set on a copy of a slice from a DataFrame.\n",
      "Try using .loc[row_indexer,col_indexer] = value instead\n",
      "\n",
      "See the caveats in the documentation: https://pandas.pydata.org/pandas-docs/stable/user_guide/indexing.html#returning-a-view-versus-a-copy\n",
      "  df['bins'] = pd.cut(df['SepalLengthInCM'], bins)\n"
     ]
    }
   ],
   "source": [
    "from sklearn.utils import shuffle\n",
    "\n",
    "# check missing value and drop the feature\n",
    "df_null = df.isnull()\n",
    "\n",
    "for colname in df_null:\n",
    "    find_null = False\n",
    "    \n",
    "    for is_null in df_null[colname]:\n",
    "        if bool(is_null):\n",
    "            find_null = True\n",
    "            break\n",
    "    \n",
    "    # if there is missing value in column, we drop this column\n",
    "    if find_null:\n",
    "        df = df.drop(colname, 1)\n",
    "\n",
    "# data shuffle\n",
    "df = shuffle(df)\n",
    "df.reset_index(inplace=True, drop=True)\n",
    "\n",
    "#bonus: need implemetation\n",
    "\n",
    "# Transform to the data format that I can process\n",
    "mean_dict = {}\n",
    "std_dict = {}\n",
    "vf_dict = {} # key: bin name, value: data count\n",
    "\n",
    "bins = [0, 1, 2, 3, 4, 5,6 ,7 ,8 ,9 ,10]\n",
    "\n",
    "df['bins'] = pd.cut(df['SepalLengthInCM'], bins)\n",
    "\n",
    "for colname in df.columns[:len(df.columns)-2]:\n",
    "    mean_dict[colname] = df[colname].mean()\n",
    "    std_dict[colname] = df[colname].std()\n",
    "\n",
    "for ele in df['bins']:\n",
    "    if str(ele) in vf_dict:\n",
    "        vf_dict[str(ele)] += 1\n",
    "    else:\n",
    "        vf_dict[str(ele)] = 1"
   ]
  },
  {
   "cell_type": "markdown",
   "id": "f92d0d22-9158-4304-89a7-ef97f895c828",
   "metadata": {},
   "source": [
    "### Data Visualization"
   ]
  },
  {
   "cell_type": "code",
   "execution_count": 5,
   "id": "2b60d5c4-b994-4b15-899a-c36feb28447c",
   "metadata": {},
   "outputs": [
    {
     "data": {
      "image/png": "[encoded data removed]",
      "text/plain": [
       "<Figure size 720x288 with 1 Axes>"
      ]
     },
     "metadata": {
      "needs_background": "light"
     },
     "output_type": "display_data"
    },
    {
     "data": {
      "image/png": "[encoded data removed]",
      "text/plain": [
       "<Figure size 720x288 with 1 Axes>"
      ]
     },
     "metadata": {
      "needs_background": "light"
     },
     "output_type": "display_data"
    },
    {
     "data": {
      "image/png": "[encoded data removed]",
      "text/plain": [
       "<Figure size 720x288 with 1 Axes>"
      ]
     },
     "metadata": {
      "needs_background": "light"
     },
     "output_type": "display_data"
    }
   ],
   "source": [
    "# show data distribution\n",
    "def draw(title, color, dict_name):\n",
    "    plt.figure(figsize=(10,4))\n",
    "    plt.title(title, loc='center')\n",
    "\n",
    "    plt.bar(range(len(dict_name)), list(dict_name.values()), align='center', color=color)\n",
    "    plt.xticks(range(len(dict_name)), list(dict_name.keys()))\n",
    "    plt.show()\n",
    "\n",
    "\n",
    "draw(\"Average\", \"green\", mean_dict)\n",
    "draw(\"Standard Deviation\", \"blue\", std_dict)\n",
    "draw(\"Value Frequency\", \"yellow\", vf_dict)"
   ]
  },
  {
   "cell_type": "code",
   "execution_count": 21,
   "id": "0826c8a9-3260-4dc2-918e-e0d286c144c5",
   "metadata": {},
   "outputs": [
    {
     "data": {
      "image/png": "[encoded data removed]",
      "text/plain": [
       "<Figure size 1800x360 with 3 Axes>"
      ]
     },
     "metadata": {
      "needs_background": "light"
     },
     "output_type": "display_data"
    },
    {
     "data": {
      "image/png": "[encoded data removed]",
      "text/plain": [
       "<Figure size 1800x360 with 3 Axes>"
      ]
     },
     "metadata": {
      "needs_background": "light"
     },
     "output_type": "display_data"
    },
    {
     "data": {
      "image/png": "[encoded data removed]",
      "text/plain": [
       "<Figure size 1800x360 with 3 Axes>"
      ]
     },
     "metadata": {
      "needs_background": "light"
     },
     "output_type": "display_data"
    }
   ],
   "source": [
    "# show data distribution base on target\n",
    "def calculate_and_draw(df_input, color_input, cata_title): \n",
    "    mean_dict = {}\n",
    "    std_dict = {}\n",
    "    vf_dict = {} # key: bin name, value: data count\n",
    "\n",
    "    for colname in df_input.columns[:len(df_input.columns)-2]:\n",
    "        mean_dict[colname] = df_input[colname].mean()\n",
    "        std_dict[colname] = df_input[colname].std()\n",
    "\n",
    "    for ele in df_input['bins']:\n",
    "        if str(ele) in vf_dict:\n",
    "            vf_dict[str(ele)] += 1\n",
    "        else:\n",
    "            vf_dict[str(ele)] = 1\n",
    "    \n",
    "    fig, (ax1, ax2, ax3) = plt.subplots(1, 3, figsize=(25,5))\n",
    "    ax1.set_title(cata_title + \"   Average\")\n",
    "    ax2.set_title(cata_title + \"   Standard Deviation\")\n",
    "    ax3.set_title(cata_title + \"   Value Frequency\")\n",
    "    ax1.bar(mean_dict.keys(), mean_dict.values(), color=color_input)\n",
    "    ax2.bar(std_dict.keys(), std_dict.values(), color=color_input)\n",
    "    ax3.bar(vf_dict.keys(), vf_dict.values(), color=color_input)\n",
    "    \n",
    "\n",
    "\n",
    "\n",
    "grouped = df.groupby(df[\"class\"])\n",
    "setosa_df = grouped.get_group(\"Iris-setosa\")\n",
    "versicolor_df = grouped.get_group(\"Iris-versicolor\")\n",
    "virginica_df = grouped.get_group(\"Iris-virginica\")\n",
    "\n",
    "calculate_and_draw(setosa_df, \"red\", \"Iris-setosa\")\n",
    "calculate_and_draw(versicolor_df, \"green\", \"Iris-versicolor\")\n",
    "calculate_and_draw(virginica_df, \"yellow\", \"Iris-virginica\")\n"
   ]
  },
  {
   "cell_type": "markdown",
   "id": "b8e5fcd4-6868-451b-81d5-a1e9cea5bdfa",
   "metadata": {},
   "source": [
    "### Model Implementation"
   ]
  },
  {
   "cell_type": "code",
   "execution_count": 7,
   "id": "399802b2-7a98-4ce8-902b-dd63f2fda442",
   "metadata": {},
   "outputs": [],
   "source": [
    "from sklearn.naive_bayes import GaussianNB\n",
    "\n",
    "def gaussianNB_constructer(training_df):\n",
    "    training_vector = []\n",
    "    target_values = []\n",
    "    \n",
    "    for index, row in training_df.iterrows():\n",
    "        target_values.append(row[\"class\"])\n",
    "        training_vector.append([row[\"SepalLengthInCM\"], row[\"SepalWidth\"], row[\"PetalLengthInCM\"], row[\"PetalWidthInCM\"]])\n",
    "    \n",
    "    clf = GaussianNB()\n",
    "    clf.fit(training_vector, target_values)\n",
    "    \n",
    "    return clf\n",
    "    \n",
    "def testing(clf, to_be_predict):\n",
    "    return clf.predict([to_be_predict])"
   ]
  },
  {
   "cell_type": "markdown",
   "id": "388d059f-71f1-4285-82cf-a7f0102c4380",
   "metadata": {},
   "source": [
    "### Train-Test-Split Holdout Validation"
   ]
  },
  {
   "cell_type": "code",
   "execution_count": 8,
   "id": "9c4b5529-ae80-41f1-bfa1-a7afca07eccc",
   "metadata": {},
   "outputs": [],
   "source": [
    "from sklearn.metrics import confusion_matrix, accuracy_score, recall_score, precision_score\n",
    "\n",
    "training_dataframe = df.iloc[:105, :]\n",
    "testing_dataframe = df.iloc[105:, :]\n",
    "\n",
    "result = []\n",
    "answer = []\n",
    "\n",
    "clf = gaussianNB_constructer(training_dataframe)\n",
    "\n",
    "for index, row in testing_dataframe.iterrows():\n",
    "    to_be_predict = [row[\"SepalLengthInCM\"], row[\"SepalWidth\"], row[\"PetalLengthInCM\"], row[\"PetalWidthInCM\"]]\n",
    "    result.append(testing(clf, to_be_predict))\n",
    "    answer.append(row[\"class\"])\n",
    "\n",
    "# get confusion matrix    \n",
    "output_confusion_matrix = confusion_matrix(answer, result)\n",
    "\n",
    "# get accuracy\n",
    "output_accuracy = accuracy_score(answer, result)\n",
    "\n",
    "#get recall\n",
    "output_recall = recall_score(answer, result, average='macro')\n",
    "\n",
    "# get precision\n",
    "output_precision = precision_score(answer, result, average='macro')"
   ]
  },
  {
   "cell_type": "markdown",
   "id": "4195f663-af91-49c4-9594-ed3962515818",
   "metadata": {},
   "source": [
    "### Train Test Splits - K-fold Cross-validation"
   ]
  },
  {
   "cell_type": "code",
   "execution_count": 9,
   "id": "b60eaf26-5d46-4f30-9a4f-bd0520403873",
   "metadata": {},
   "outputs": [],
   "source": [
    "from sklearn.model_selection import KFold\n",
    "import numpy as np\n",
    "\n",
    "kf = KFold(n_splits=3)\n",
    "\n",
    "confusion_matrix_list = []\n",
    "accuracy_list = []\n",
    "recall_list = []\n",
    "precision_list = []\n",
    "\n",
    "for train_index, test_index in kf.split(df):\n",
    "    clf = gaussianNB_constructer(df.iloc[train_index])\n",
    "    \n",
    "    answer = []\n",
    "    result = []\n",
    "    \n",
    "    for index, row in df.iloc[test_index].iterrows():\n",
    "        to_be_predict = [row[\"SepalLengthInCM\"], row[\"SepalWidth\"], row[\"PetalLengthInCM\"], row[\"PetalWidthInCM\"]]\n",
    "        result.append(testing(clf, to_be_predict))\n",
    "        answer.append(row[\"class\"])\n",
    "    \n",
    "    confusion_matrix_list.append(confusion_matrix(answer, result))\n",
    "    accuracy_list.append(accuracy_score(answer, result))\n",
    "    recall_list.append(recall_score(answer, result, average='macro'))\n",
    "    precision_list.append(precision_score(answer, result, average='macro'))\n",
    "\n",
    "\n",
    "    \n",
    "final_confusion_matrix = np.add(confusion_matrix_list[0], confusion_matrix_list[1])\n",
    "final_confusion_matrix = np.add(final_confusion_matrix, confusion_matrix_list[2])\n",
    "\n",
    "final_confusion_matrix = [[float(y) for y in x] for x in final_confusion_matrix]\n",
    "\n",
    "for i in range(len(final_confusion_matrix)):\n",
    "    for j in range(len(final_confusion_matrix[i])):\n",
    "        final_confusion_matrix[i][j] = float(final_confusion_matrix[i][j] / 3.0)\n",
    "\n",
    "final_confusion_matrix = np.array(final_confusion_matrix)\n",
    "final_accuracy = sum(accuracy_list) / 3\n",
    "final_recall = sum(recall_list) / 3\n",
    "final_precision = sum(precision_list) / 3"
   ]
  },
  {
   "cell_type": "markdown",
   "id": "5916662e-b66f-45ce-a755-8202ea3be494",
   "metadata": {},
   "source": [
    "### Result print"
   ]
  },
  {
   "cell_type": "code",
   "execution_count": 10,
   "id": "87226b58-d3d2-44cc-84d9-e107e63761d5",
   "metadata": {},
   "outputs": [
    {
     "name": "stdout",
     "output_type": "stream",
     "text": [
      "+-------------------------+-----------------------------------------+--------------------+--------------------+--------------------+\n",
      "|        Test Type        |             Confusion Matrix            |      Accuracy      |       Recall       |     Precision      |\n",
      "+-------------------------+-----------------------------------------+--------------------+--------------------+--------------------+\n",
      "|    Holdout Validation   |               [[12  0  0]               | 0.9555555555555556 | 0.9682539682539683 | 0.9523809523809524 |\n",
      "|                         |                [ 0 19  2]               |                    |                    |                    |\n",
      "|                         |                [ 0  0 12]]              |                    |                    |                    |\n",
      "| K-fold Cross-validation |  [[16.66666667  0.          0.        ] |        0.96        | 0.9601879601879603 | 0.9600181953123129 |\n",
      "|                         |   [ 0.         15.66666667  1.        ] |                    |                    |                    |\n",
      "|                         |  [ 0.          1.         15.66666667]] |                    |                    |                    |\n",
      "+-------------------------+-----------------------------------------+--------------------+--------------------+--------------------+\n"
     ]
    }
   ],
   "source": [
    "from prettytable import PrettyTable\n",
    "x = PrettyTable()\n",
    "\n",
    "x.field_names = [\"Test Type\", \"Confusion Matrix\", \"Accuracy\", \"Recall\", \"Precision\"]\n",
    "x.add_row([\"Holdout Validation\", output_confusion_matrix, output_accuracy, output_recall, output_precision])\n",
    "x.add_row([\"K-fold Cross-validation\", final_confusion_matrix, final_accuracy, final_recall, final_precision])\n",
    "\n",
    "print(x)"
   ]
  },
  {
   "cell_type": "markdown",
   "id": "a1acf6b2-dec2-4157-b422-db6f3243c711",
   "metadata": {},
   "source": [
    "### Question"
   ]
  },
  {
   "cell_type": "code",
   "execution_count": 19,
   "id": "951db8f9-3854-4f1c-add8-7280efb892bb",
   "metadata": {},
   "outputs": [
    {
     "name": "stdout",
     "output_type": "stream",
     "text": [
      "+-------------------+--------------------------+\n",
      "|     Mean Value    | Standard Deviation Value |\n",
      "+-------------------+--------------------------+\n",
      "| 4.260000000000002 |   0.46991097723995795    |\n",
      "+-------------------+--------------------------+\n"
     ]
    },
    {
     "data": {
      "text/plain": [
       "<matplotlib.legend.Legend at 0x7fce8a43a880>"
      ]
     },
     "execution_count": 19,
     "metadata": {},
     "output_type": "execute_result"
    },
    {
     "data": {
      "image/png": "[encoded data removed]",
      "text/plain": [
       "<Figure size 432x288 with 1 Axes>"
      ]
     },
     "metadata": {
      "needs_background": "light"
     },
     "output_type": "display_data"
    }
   ],
   "source": [
    "import math\n",
    "import numpy as np\n",
    "import scipy.stats\n",
    "\n",
    "mean_value = versicolor_df[\"PetalLengthInCM\"].mean()\n",
    "std_value = versicolor_df[\"PetalLengthInCM\"].std()\n",
    "\n",
    "x1 = PrettyTable()\n",
    "x1.field_names = [\"Mean Value\", \"Standard Deviation Value\"]\n",
    "x1.add_row([mean_value, std_value])\n",
    "print(x1)\n",
    "\n",
    "data = versicolor_df[\"PetalLengthInCM\"]\n",
    "\n",
    "# test values for the bw_method option ('None' is the default value)\n",
    "bw_values =  [None]\n",
    "\n",
    "# generate a list of kde estimators for each bw\n",
    "kde = [scipy.stats.gaussian_kde(data,bw_method=bw) for bw in bw_values]\n",
    "\n",
    "\n",
    "# plot (normalized) histogram of the data\n",
    "import matplotlib.pyplot as plt \n",
    "\n",
    "\n",
    "# plot density estimates\n",
    "t_range = np.linspace(-2,8,200)\n",
    "for i, bw in enumerate(bw_values):\n",
    "    plt.plot(t_range,kde[i](t_range),lw=2, label='bw = '+str(bw))\n",
    "plt.xlim(2,6)\n",
    "plt.legend(loc='best')"
   ]
  },
  {
   "cell_type": "code",
   "execution_count": null,
   "id": "f3df040d-d243-46b4-84ef-444cefcb39a6",
   "metadata": {},
   "outputs": [],
   "source": []
  }
 ],
 "metadata": {
  "kernelspec": {
   "display_name": "Python 3",
   "language": "python",
   "name": "python3"
  },
  "language_info": {
   "codemirror_mode": {
    "name": "ipython",
    "version": 3
   },
   "file_extension": ".py",
   "mimetype": "text/x-python",
   "name": "python",
   "nbconvert_exporter": "python",
   "pygments_lexer": "ipython3",
   "version": "3.8.8"
  }
 },
 "nbformat": 4,
 "nbformat_minor": 5
}
